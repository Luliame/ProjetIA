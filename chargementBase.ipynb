{
 "cells": [
  {
   "cell_type": "code",
   "execution_count": 90,
   "metadata": {},
   "outputs": [
    {
     "name": "stdout",
     "output_type": "stream",
     "text": [
      "416\n",
      "[0. 0. 0. 0. 0. 0. 0. 0. 0. 0. 0. 0. 0. 0. 0. 0. 0. 0. 0. 0. 0. 0. 0. 0.\n",
      " 0. 0. 0. 0. 0. 0. 0. 0. 0. 0. 0. 0. 0. 0. 0. 0. 0. 0. 0. 0. 0. 0. 0. 0.\n",
      " 0. 0. 0. 0. 0. 0. 0. 0. 0. 0. 0. 0. 0. 0. 0. 0. 0. 0. 0. 0. 0. 0. 0. 0.\n",
      " 0. 0. 0. 0. 0. 0. 0. 0. 0. 0. 0. 0. 0. 0. 0. 0. 0. 0. 0. 0. 0. 0. 0. 0.\n",
      " 0. 0. 0. 0. 0. 0. 0. 0. 0. 0. 0. 0. 0. 0. 0. 0. 0. 0. 0. 0. 0. 0. 0. 0.\n",
      " 0. 0. 0. 0. 0. 0. 0. 0. 0. 0. 0. 0. 0. 0. 0. 0. 0. 0. 0. 0. 0. 0. 0. 0.\n",
      " 0. 0. 0. 0. 0. 0. 0. 0. 0. 0. 0. 0. 0. 0. 0. 0. 0. 0. 0. 0. 0. 0. 0. 0.\n",
      " 0. 0. 0. 0. 0. 0. 0. 0. 0. 0. 0. 0. 0. 0. 0. 0. 0. 0. 0. 0. 0. 0. 0. 0.\n",
      " 0. 0. 0. 0. 0. 0. 0. 0. 0. 0. 0. 0. 0. 0. 0. 0. 0. 0. 0. 0. 0. 0. 0. 0.\n",
      " 0. 0. 0. 0. 0. 0. 0. 0. 0. 0. 0. 0. 0. 0. 0. 0. 0. 0. 0. 0. 0. 0. 0. 0.\n",
      " 0. 0. 0. 0. 0. 0. 0. 0. 0. 0. 0. 0. 0. 0. 0. 0. 0. 0. 0. 0. 0. 0. 0. 0.\n",
      " 0. 0. 0. 0. 0. 0. 0. 0. 1. 1. 1. 1. 1. 1. 1. 1. 1. 1. 1. 1. 1. 1. 1. 1.\n",
      " 1. 1. 1. 1. 1. 1. 1. 1. 1. 1. 1. 1. 1. 1. 1. 1. 1. 1. 1. 1. 1. 1. 1. 1.\n",
      " 1. 1. 1. 1. 1. 1. 1. 1. 1. 1. 1. 1. 1. 1. 1. 1. 1. 1. 1. 1. 1. 1. 1. 1.\n",
      " 1. 1. 1. 1. 1. 1. 1. 1. 1. 1. 1. 1. 1. 1. 1. 1. 1. 1. 1. 1. 1. 1. 1. 1.\n",
      " 1. 1. 1. 1. 1. 1. 1. 1. 1. 1. 1. 1. 1. 1. 1. 1. 1. 1. 1. 1. 1. 1. 1. 1.\n",
      " 1. 1. 1. 1. 1. 1. 1. 1. 1. 1. 1. 1. 1. 1. 1. 1. 1. 1. 1. 1. 1. 1. 1. 1.\n",
      " 1. 1. 1. 1. 1. 1. 1. 1.]\n",
      "416\n"
     ]
    }
   ],
   "source": [
    "import os\n",
    "from PIL import Image\n",
    "from matplotlib import image\n",
    "from matplotlib import pyplot\n",
    "import numpy as np\n",
    "\n",
    "#277,524 images dont 198,738 IDC negative and 78,786 IDC positive\n",
    "\n",
    "#index du dataframe\n",
    "index=range(0,416,1)\n",
    "\n",
    "#liste des images transformées en array\n",
    "matImage=[]\n",
    "\n",
    "#tableau des diagnostics\n",
    "diagnostic=np.ones(416)\n",
    "\n",
    "#index d'écriture dans le tableau des diagnostics\n",
    "i=0\n",
    "\n",
    "\n",
    "#Lecture des images\n",
    "\n",
    "for root, dirs, files in os.walk(\"./breastCancerDataset/12879\") :\n",
    "       for name in files :\n",
    "            if (name.endswith(\"1.png\")) :\n",
    "                chemin = root + \"/\" + name\n",
    "                data = image.imread(chemin)\n",
    "                matImage.append(data)\n",
    "                diagnostic[i]= 1\n",
    "                i=i+1\n",
    "            else :\n",
    "                chemin = root + \"/\" + name\n",
    "                data = image.imread(chemin)\n",
    "                matImage.append(data)\n",
    "                diagnostic[i] = 0\n",
    "                i=i+1\n",
    "                \n",
    "print(i)\n",
    "print(len(matImage))"
   ]
  },
  {
   "cell_type": "code",
   "execution_count": 112,
   "metadata": {},
   "outputs": [
    {
     "name": "stdout",
     "output_type": "stream",
     "text": [
      "                                                 coupe  diagnostic\n",
      "0    [[[0.8392157, 0.6117647, 0.7137255], [0.870588...         0.0\n",
      "1    [[[0.8509804, 0.54901963, 0.65882355], [0.8588...         0.0\n",
      "2    [[[0.8745098, 0.54509807, 0.65882355], [0.8392...         0.0\n",
      "3    [[[0.8235294, 0.47843137, 0.6156863], [0.80392...         0.0\n",
      "4    [[[0.84313726, 0.5647059, 0.68235296], [0.8235...         0.0\n",
      "..                                                 ...         ...\n",
      "411  [[[0.6745098, 0.43137255, 0.5921569], [0.62745...         1.0\n",
      "412  [[[0.6862745, 0.44705883, 0.6156863], [0.62745...         1.0\n",
      "413  [[[0.67058825, 0.44705883, 0.61960787], [0.756...         1.0\n",
      "414  [[[0.7372549, 0.49411765, 0.62352943], [0.6117...         1.0\n",
      "415  [[[0.77254903, 0.49803922, 0.59607846], [0.792...         1.0\n",
      "\n",
      "[416 rows x 2 columns]\n"
     ]
    },
    {
     "data": {
      "text/html": [
       "<div>\n",
       "<style scoped>\n",
       "    .dataframe tbody tr th:only-of-type {\n",
       "        vertical-align: middle;\n",
       "    }\n",
       "\n",
       "    .dataframe tbody tr th {\n",
       "        vertical-align: top;\n",
       "    }\n",
       "\n",
       "    .dataframe thead th {\n",
       "        text-align: right;\n",
       "    }\n",
       "</style>\n",
       "<table border=\"1\" class=\"dataframe\">\n",
       "  <thead>\n",
       "    <tr style=\"text-align: right;\">\n",
       "      <th></th>\n",
       "      <th>coupe</th>\n",
       "      <th>diagnostic</th>\n",
       "    </tr>\n",
       "  </thead>\n",
       "  <tbody>\n",
       "    <tr>\n",
       "      <th>0</th>\n",
       "      <td>[[[0.8392157, 0.6117647, 0.7137255], [0.870588...</td>\n",
       "      <td>0.0</td>\n",
       "    </tr>\n",
       "    <tr>\n",
       "      <th>1</th>\n",
       "      <td>[[[0.8509804, 0.54901963, 0.65882355], [0.8588...</td>\n",
       "      <td>0.0</td>\n",
       "    </tr>\n",
       "    <tr>\n",
       "      <th>2</th>\n",
       "      <td>[[[0.8745098, 0.54509807, 0.65882355], [0.8392...</td>\n",
       "      <td>0.0</td>\n",
       "    </tr>\n",
       "    <tr>\n",
       "      <th>3</th>\n",
       "      <td>[[[0.8235294, 0.47843137, 0.6156863], [0.80392...</td>\n",
       "      <td>0.0</td>\n",
       "    </tr>\n",
       "    <tr>\n",
       "      <th>4</th>\n",
       "      <td>[[[0.84313726, 0.5647059, 0.68235296], [0.8235...</td>\n",
       "      <td>0.0</td>\n",
       "    </tr>\n",
       "  </tbody>\n",
       "</table>\n",
       "</div>"
      ],
      "text/plain": [
       "                                               coupe  diagnostic\n",
       "0  [[[0.8392157, 0.6117647, 0.7137255], [0.870588...         0.0\n",
       "1  [[[0.8509804, 0.54901963, 0.65882355], [0.8588...         0.0\n",
       "2  [[[0.8745098, 0.54509807, 0.65882355], [0.8392...         0.0\n",
       "3  [[[0.8235294, 0.47843137, 0.6156863], [0.80392...         0.0\n",
       "4  [[[0.84313726, 0.5647059, 0.68235296], [0.8235...         0.0"
      ]
     },
     "execution_count": 112,
     "metadata": {},
     "output_type": "execute_result"
    }
   ],
   "source": [
    "#Création du dataframe\n",
    "\n",
    "import pandas as pd\n",
    "\n",
    "sImage=pd.Series(matImage,index=index)\n",
    "sDiag=pd.Series(diagnostic,index=index)\n",
    "\n",
    "d = {\n",
    "'coupe': sImage,\n",
    "'diagnostic': sDiag\n",
    "}\n",
    "\n",
    "df=pd.DataFrame(d)\n",
    "\n",
    "print(df)\n",
    "df.head(5)"
   ]
  },
  {
   "cell_type": "code",
   "execution_count": 113,
   "metadata": {},
   "outputs": [],
   "source": [
    "np.save(\"base.npy\",df,allow_pickle=True, fix_imports=True)"
   ]
  },
  {
   "cell_type": "code",
   "execution_count": 115,
   "metadata": {},
   "outputs": [],
   "source": [
    "import pickle\n",
    "np.save(\"base2.npy\",df)\n"
   ]
  },
  {
   "cell_type": "code",
   "execution_count": 116,
   "metadata": {},
   "outputs": [
    {
     "name": "stdout",
     "output_type": "stream",
     "text": [
      " Le volume dans le lecteur C s'appelle Windows \n",
      " Le num‚ro de s‚rie du volume est AEFB-8241\n",
      "\n",
      " R‚pertoire de C:\\Users\\ponce\\Desktop\\IUT\\Cours\\Modelisation\\ProjetIA\n",
      "\n",
      "08/12/2020  17:30    <DIR>          .\n",
      "08/12/2020  17:30    <DIR>          ..\n",
      "08/12/2020  17:26    <DIR>          .ipynb_checkpoints\n",
      "08/12/2020  17:25        12ÿ499ÿ144 base.npy\n",
      "08/12/2020  17:29        12ÿ499ÿ144 base2.npy\n",
      "08/12/2020  16:07    <DIR>          breastCancerDataset\n",
      "08/12/2020  17:30             7ÿ780 chargementBase.ipynb\n",
      "08/12/2020  16:09    <DIR>          dossierTest\n",
      "04/12/2020  09:23         3ÿ821ÿ112 JPatholInform7129-2997014_081930.pdf\n",
      "08/12/2020  16:58         3ÿ226ÿ386 tp-panda-lucile-velut.ipynb\n",
      "08/12/2020  17:16         2ÿ609ÿ789 tp3ClaraPoncetG1.ipynb\n",
      "08/12/2020  17:30             3ÿ742 Untitled.ipynb\n",
      "08/12/2020  16:54           598ÿ895 velut-lucile-tp2.py.ipynb\n",
      "               8 fichier(s)       35ÿ265ÿ992 octets\n",
      "               5 R‚p(s)  361ÿ519ÿ755ÿ264 octets libres\n"
     ]
    }
   ],
   "source": [
    "!dir"
   ]
  },
  {
   "cell_type": "code",
   "execution_count": null,
   "metadata": {},
   "outputs": [],
   "source": []
  }
 ],
 "metadata": {
  "kernelspec": {
   "display_name": "Python 3",
   "language": "python",
   "name": "python3"
  },
  "language_info": {
   "codemirror_mode": {
    "name": "ipython",
    "version": 3
   },
   "file_extension": ".py",
   "mimetype": "text/x-python",
   "name": "python",
   "nbconvert_exporter": "python",
   "pygments_lexer": "ipython3",
   "version": "3.8.5"
  }
 },
 "nbformat": 4,
 "nbformat_minor": 4
}
